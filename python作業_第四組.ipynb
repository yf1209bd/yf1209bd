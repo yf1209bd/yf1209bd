{
  "cells": [
    {
      "cell_type": "markdown",
      "metadata": {
        "id": "view-in-github",
        "colab_type": "text"
      },
      "source": [
        "<a href=\"https://colab.research.google.com/github/yf1209bd/yf1209bd/blob/main/python%E4%BD%9C%E6%A5%AD_%E7%AC%AC%E5%9B%9B%E7%B5%84.ipynb\" target=\"_parent\"><img src=\"https://colab.research.google.com/assets/colab-badge.svg\" alt=\"Open In Colab\"/></a>"
      ]
    },
    {
      "cell_type": "markdown",
      "source": [
        "參與組員:![螢幕擷取畫面 2024-05-31 235749.png](data:image/png;base64,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)"
      ],
      "metadata": {
        "id": "UzA9yWuJXiDL"
      }
    },
    {
      "cell_type": "code",
      "source": [
        "#1\n",
        "#請將「imdb_top_1000.xlsx」檔案存到你的Google雲端硬碟中，並分享檔案權限的方式讀取檔案中『Data』工作表中的資料，並命名為imdb1000資料集。(10%)\n",
        "import pandas as pd\n",
        "imdb_1000=pd.read_excel(\"https://drive.google.com/uc?id=1JmQOnDyv57UakbhZb7iVbzlyZNV4OJSa&export=download\",header=0,thousands=\",\")"
      ],
      "metadata": {
        "id": "WJDSeTAdnrIU"
      },
      "execution_count": null,
      "outputs": []
    },
    {
      "cell_type": "code",
      "source": [
        "#2\n",
        "#請將imdb1000中欄位名稱為「Series_Title」改成「電影片名」；「Runtime」改為「影片長度」並重新存回imdb1000 (5%)。\n",
        "imdb_1000=imdb_1000.rename(columns={'Series_Title': '電影片名', 'Runtime': '影片長度'})"
      ],
      "metadata": {
        "id": "tFIprYkXWzcI"
      },
      "execution_count": null,
      "outputs": []
    },
    {
      "cell_type": "code",
      "source": [
        "#3\n",
        "#請用info指令檢視資料集中變數是否符合「imdb_top_1000.xlsx」檔案中『變數定義』所認定之定義；若不是，請將該變數轉型成適當的資料型別(10%)。\n",
        "imdb_1000.info()"
      ],
      "metadata": {
        "id": "J8EBEj8LsF8T"
      },
      "execution_count": null,
      "outputs": []
    },
    {
      "cell_type": "code",
      "source": [
        "imdb_1000['Released_Year']=imdb_1000['Released_Year'].to_string()"
      ],
      "metadata": {
        "id": "Tj1NFFxIvYe3"
      },
      "execution_count": null,
      "outputs": []
    },
    {
      "cell_type": "code",
      "source": [
        "imdb_1000.info()"
      ],
      "metadata": {
        "id": "QG-NmR-fviq8"
      },
      "execution_count": null,
      "outputs": []
    },
    {
      "cell_type": "code",
      "source": [
        "#4\n",
        "#請將imdb1000中有遺失值的列刪除，另存成imdb_drop(5%)。\n",
        "imdb_drop=imdb_1000.dropna()"
      ],
      "metadata": {
        "id": "FChTcXmgwMgK"
      },
      "execution_count": null,
      "outputs": []
    },
    {
      "cell_type": "code",
      "source": [
        "#5\n",
        "#請用「if…elif…elif…else…判斷式」將imdb_drop中「IMDB_Rating」重新定義一個變數為『評等』存回imdb_drop這個資料集內，變數定義如下：(10%)\n",
        "#A   >= 9.0\n",
        "#B   < 9.0 and >= 8.5\n",
        "#C   <8.5 and >= 8.0\n",
        "#D   <8.0\n",
        "def rating(score):\n",
        "  if score >= 9.0:\n",
        "    return 'A'\n",
        "  elif score < 9.0 and score >= 8.5:\n",
        "    return 'B'\n",
        "  elif score < 8.5 and score >= 8.0:\n",
        "    return 'C'\n",
        "  else:\n",
        "    return 'D'\n",
        "imdb_drop['評等'] = imdb_drop['IMDB_Rating'].apply(rating)"
      ],
      "metadata": {
        "id": "R7I4fMIzofL7"
      },
      "execution_count": null,
      "outputs": []
    },
    {
      "cell_type": "code",
      "source": [
        "#6\n",
        "#請將imdb_drop中的「電影片名」定義成index並重新存回imdb_drop (5%)。\n",
        "imdb_drop=imdb_drop.set_index(\"電影片名\")"
      ],
      "metadata": {
        "id": "WZzAdGvSosZ6"
      },
      "execution_count": null,
      "outputs": []
    },
    {
      "cell_type": "code",
      "source": [
        "#imdb_drop"
      ],
      "metadata": {
        "id": "Rpb4UxvsJPGC"
      },
      "execution_count": null,
      "outputs": []
    },
    {
      "cell_type": "code",
      "source": [
        "#7\n",
        "#請將imdb_drop中「影片長度」、「IMDB_Rating」、「Meta_score」、「No_of_Votes」、「Gross」5個欄位資料另存為imdb_numeric資料集(5%)。\n",
        "imdb_numeric=imdb_drop[['影片長度', 'IMDB_Rating', 'Meta_score', 'No_of_Votes', 'Gross']]"
      ],
      "metadata": {
        "id": "xKuvJF_pprdj"
      },
      "execution_count": null,
      "outputs": []
    },
    {
      "cell_type": "code",
      "source": [
        "#8\n",
        "#計算imdb_numeric所有欄位的平均數、標準差、最大值、最小值，以及變數間的共變異數及相關係數矩陣(10%)。\n",
        "imdb_numeric.mean() #平均數"
      ],
      "metadata": {
        "id": "ZwwG2Q6qGlw8"
      },
      "execution_count": null,
      "outputs": []
    },
    {
      "cell_type": "code",
      "source": [
        "imdb_numeric.std() #標準差"
      ],
      "metadata": {
        "id": "YgWsSGKEsZLw"
      },
      "execution_count": null,
      "outputs": []
    },
    {
      "cell_type": "code",
      "source": [
        "imdb_numeric.max() #最大值"
      ],
      "metadata": {
        "id": "goayqryBtBVZ"
      },
      "execution_count": null,
      "outputs": []
    },
    {
      "cell_type": "code",
      "source": [
        "imdb_numeric.min() #最小值"
      ],
      "metadata": {
        "id": "FjaeM82wtUg_"
      },
      "execution_count": null,
      "outputs": []
    },
    {
      "cell_type": "code",
      "source": [
        "imdb_numeric.cov() #共變異數"
      ],
      "metadata": {
        "id": "m5h7-j9Yte0g"
      },
      "execution_count": null,
      "outputs": []
    },
    {
      "cell_type": "code",
      "source": [
        "imdb_numeric.corr() #相關係數矩陣"
      ],
      "metadata": {
        "id": "8yGlltU5trsN"
      },
      "execution_count": null,
      "outputs": []
    },
    {
      "cell_type": "code",
      "source": [
        "#9\n",
        "#請將imdb_drop中「評等」另存成imdb_rate的資料集(5%)。\n",
        "imdb_rate=imdb_drop['評等']"
      ],
      "metadata": {
        "id": "wt-4qk5LBytT"
      },
      "execution_count": null,
      "outputs": []
    },
    {
      "cell_type": "code",
      "source": [
        "#10\n",
        "#請將imdb_rate及imdb_numeric兩個資料集進行欄位合併成imdb_merge(5%)。\n",
        "imdb_merge=pd.concat([imdb_numeric,imdb_rate],axis=1)"
      ],
      "metadata": {
        "id": "21TgsFM2vYMr"
      },
      "execution_count": null,
      "outputs": []
    },
    {
      "cell_type": "code",
      "source": [
        "#11\n",
        "#以imdb_merge中「評等」進行資料分組，分別計算其「影片長度」、「IMDB_Rating」、「Meta_score」、「No_of_Votes」、「Gross」5個變數的平均數、個數(10%)。\n",
        "grouped=imdb_merge.groupby('評等').agg({\n",
        "         '影片長度': ['mean', 'count'],\n",
        "         'IMDB_Rating': ['mean', 'count'],\n",
        "         'Meta_score': ['mean', 'count'],\n",
        "         'No_of_Votes': ['mean', 'count'],\n",
        "         'Gross': ['mean', 'count']})\n",
        "#grouped"
      ],
      "metadata": {
        "id": "OujwEf9S70aK"
      },
      "execution_count": null,
      "outputs": []
    },
    {
      "cell_type": "code",
      "source": [
        "#12\n",
        "#請以imdb_drop中「Certificate」項目的次數分配表繪製圓餅圖，並命名該圖表的title為『認證項目圓餅圖』(10%)。\n",
        "import matplotlib\n",
        "import matplotlib.pyplot as plt\n",
        "#下載台北黑體字型\n",
        "!wget -O taipei_sans_tc_beta.ttf https://drive.google.com/uc?id=1eGAsTN1HBpJAkeVM57_C7ccp7hbgSz3_&export=download\n",
        "# 新增字體\n",
        "matplotlib.font_manager.fontManager.addfont('taipei_sans_tc_beta.ttf')\n",
        "plt.rcParams['font.sans-serif'] = ['Taipei Sans TC Beta']\n",
        "num=imdb_drop['Certificate'].value_counts()\n",
        "plt.figure\n",
        "plt.pie(num)\n",
        "plt.title(\"認證項目圓餅圖\")\n",
        "plt.show()"
      ],
      "metadata": {
        "id": "3UjOP_8P75D5"
      },
      "execution_count": null,
      "outputs": []
    },
    {
      "cell_type": "code",
      "source": [
        "#13\n",
        "#請篩選imdb_drop中「Certificate」為U的項目，且欄位保留「Certificate」及「Meta_Score」2個變數，另存成imdb_U資料集(5%)。\n",
        "imdb_U=imdb_drop.loc[imdb_drop['Certificate']==\"U\",[\"Certificate\",\"Meta_score\"]]"
      ],
      "metadata": {
        "id": "oM76n5yvOi_b"
      },
      "execution_count": null,
      "outputs": []
    },
    {
      "cell_type": "code",
      "source": [
        "#14\n",
        "#請繪製imdb_U中「Meta_Score」變數的莖葉圖(5%)\n",
        "import sys\n",
        "!{sys.executable} -m pip install stemgraphic\n",
        "from stemgraphic import stem_graphic\n",
        "stem_graphic(imdb_U[\"Meta_score\"])"
      ],
      "metadata": {
        "id": "OKl_yMVPDwn3"
      },
      "execution_count": null,
      "outputs": []
    },
    {
      "cell_type": "code",
      "source": [
        "#15\n",
        "#請繪製imdb_drop中「No_of_Votes」的盒鬚圖（以「評等」進行分組）(10%)。\n",
        "imdb_drop.boxplot(column=\"No_of_Votes\",by=\"評等\")"
      ],
      "metadata": {
        "id": "LLjeOHhID06M"
      },
      "execution_count": null,
      "outputs": []
    },
    {
      "cell_type": "code",
      "source": [
        "#16\n",
        "#請分別讀入以下兩個檔案，並分別命名為Dat1及Dat2，再將這兩個檔案上下合併(10%)。\n",
        "#https://mopsfin.twse.com.tw/opendata/t187ap46_O_1.csv\n",
        "#https://mopsfin.twse.com.tw/opendata/t187ap46_L_1.csv\n",
        "Dat1 = pd.read_csv(\"https://mopsfin.twse.com.tw/opendata/t187ap46_O_1.csv\")\n",
        "Dat2 = pd.read_csv(\"https://mopsfin.twse.com.tw/opendata/t187ap46_L_1.csv\")\n",
        "merged_data = pd.concat([Dat1, Dat2], ignore_index=True)"
      ],
      "metadata": {
        "id": "8vHYd-ELD1JZ"
      },
      "execution_count": null,
      "outputs": []
    }
  ],
  "metadata": {
    "kernelspec": {
      "display_name": "Python 3",
      "name": "python3"
    },
    "language_info": {
      "codemirror_mode": {
        "name": "ipython",
        "version": 3
      },
      "file_extension": ".py",
      "mimetype": "text/x-python",
      "name": "python",
      "nbconvert_exporter": "python",
      "pygments_lexer": "ipython3",
      "version": "3.9.7"
    },
    "colab": {
      "provenance": [],
      "private_outputs": true,
      "gpuType": "T4",
      "cell_execution_strategy": "setup",
      "include_colab_link": true
    },
    "accelerator": "GPU"
  },
  "nbformat": 4,
  "nbformat_minor": 0
}